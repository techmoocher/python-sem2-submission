{
  "cells": [
    {
      "cell_type": "markdown",
      "id": "572b8cd6",
      "metadata": {
        "id": "572b8cd6"
      },
      "source": [
        "#Search and Sorting"
      ]
    },
    {
      "cell_type": "markdown",
      "source": [
        "Import thư viện và tạo dữ liệu"
      ],
      "metadata": {
        "id": "LkiKa8dwh4BM"
      },
      "id": "LkiKa8dwh4BM"
    },
    {
      "cell_type": "code",
      "execution_count": 1,
      "id": "3c7a1163",
      "metadata": {
        "id": "3c7a1163"
      },
      "outputs": [],
      "source": [
        "from bisect import *\n",
        "\n",
        "arr1D = [48, 6, 13, 50, 37, 8, 38, 30, 15, 17, 29, 31, 36, 13, 44, 32, 6, 11, 32, 31, 46, 3, 17, 29, 36, 27, 44, 8, 23, 28, 48, 2, 11, 50, 33, 1, 39, 34, 48, 27, 14, 22, 25, 22, 21, 29, 18, 37, 32, 9, 28, 24, 47, 8, 2, 45, 20, 30, 30, 44, 3, 31, 24, 41, 17, 15, 17, 18, 12, 23, 13, 18, 50, 38, 12, 1, 8, 33, 13, 22, 26, 40, 26, 31, 5, 4, 12, 42, 23, 14, 21, 29, 15, 28, 19, 1, 42, 36, 33, 27]\n",
        "arr2D = [[14, 7, 49, 47, 43, 5, 22, 11, 32, 22, 5, 4, 24, 44, 40],\n",
        "          [40, 22, 30, 5, 43, 44, 44, 23, 15, 47, 17, 42, 42, 40, 26],\n",
        "          [13, 46, 44, 1, 33, 22, 8, 44, 4, 46, 46, 12, 11, 29, 27],\n",
        "          [19, 44, 44, 22, 48, 46, 36, 7, 47, 39, 43, 24, 47, 46, 22],\n",
        "          [30, 13, 16, 42, 30, 17, 31, 8, 27, 36, 26, 17, 41, 15, 8],\n",
        "          [8, 42, 22, 36, 23, 39, 33, 19, 35, 7, 26, 4, 18, 21, 9],\n",
        "          [10, 28, 18, 48, 39, 34, 10, 1, 27, 11, 15, 44, 35, 28, 25],\n",
        "          [18, 39, 16, 24, 1, 1, 23, 23, 9, 3, 31, 28, 39, 43, 47],\n",
        "          [43, 31, 46, 27, 23, 43, 32, 2, 36, 36, 48, 16, 41, 31, 20],\n",
        "          [23, 40, 36, 13, 30, 40, 9, 30, 42, 36, 32, 35, 26, 35, 28]]"
      ]
    },
    {
      "cell_type": "markdown",
      "id": "567371d4",
      "metadata": {
        "id": "567371d4"
      },
      "source": [
        "## Sequential Search"
      ]
    },
    {
      "cell_type": "markdown",
      "source": [
        "Câu 1: Viết hàm tìm kiếm vị trí xuất hiện đầu tiên của phần tử có giá trị `x` trong mảng 1 chiều `arr`"
      ],
      "metadata": {
        "id": "4J-ATL17FjiS"
      },
      "id": "4J-ATL17FjiS"
    },
    {
      "cell_type": "code",
      "execution_count": 3,
      "id": "2596b134",
      "metadata": {
        "id": "2596b134",
        "colab": {
          "base_uri": "https://localhost:8080/"
        },
        "outputId": "7a06a689-d5e9-4d25-810c-4a0c1fd05466"
      },
      "outputs": [
        {
          "output_type": "stream",
          "name": "stdout",
          "text": [
            "Vị trí xuất hiện đầu tiên của 9 trong danh sách là: 49\n"
          ]
        }
      ],
      "source": [
        "def sequential_search(arr, x):\n",
        "    for i in range(len(arr)):\n",
        "        #your code starts here\n",
        "        if arr[i] == x:\n",
        "            return i\n",
        "        #your code ends here\n",
        "    return -1\n",
        "\n",
        "x = 9\n",
        "print(\"Vị trí xuất hiện đầu tiên của\", x, \"trong danh sách là:\", sequential_search(arr1D, x))\n",
        "\n",
        "#output: Vị trí xuất hiện đầu tiên của 9 trong danh sách là: 49"
      ]
    },
    {
      "cell_type": "markdown",
      "source": [
        "Câu 2: Viết hàm đếm số lần xuất hiện của giá trị `x` trong mảng 1 chiều `arr`"
      ],
      "metadata": {
        "id": "lQZAS5NKFoXI"
      },
      "id": "lQZAS5NKFoXI"
    },
    {
      "cell_type": "code",
      "source": [
        "def count_sequential(arr, x):\n",
        "    count = 0\n",
        "    for i in range(len(arr)):\n",
        "        #your code starts here\n",
        "        if arr[i] == x:\n",
        "            count += 1\n",
        "        #your code ends here\n",
        "    return count\n",
        "\n",
        "x = 8\n",
        "print(\"Số lần xuất hiện của\", x, \"trong danh sách là:\", count_sequential(arr1D, x))\n",
        "#output: Số lần xuất hiện của 8 trong danh sách là: 4"
      ],
      "metadata": {
        "id": "mOEi00K5Fp9w",
        "colab": {
          "base_uri": "https://localhost:8080/"
        },
        "outputId": "55ddcb66-bb14-480e-c970-15f19333607f"
      },
      "id": "mOEi00K5Fp9w",
      "execution_count": 6,
      "outputs": [
        {
          "output_type": "stream",
          "name": "stdout",
          "text": [
            "Số lần xuất hiện của 8 trong danh sách là: 4\n"
          ]
        }
      ]
    },
    {
      "cell_type": "markdown",
      "source": [
        "Câu 3: Viết hàm tìm kiếm vị trí dòng và cột đầu tiên của phần tử có giá trị `x` trong mảng 2 chiều `matrix`. Nếu không tồn tại phần tử có giá trị `x` thì trả về dòng và cột có giá trị -1."
      ],
      "metadata": {
        "id": "vlUpFareFyNW"
      },
      "id": "vlUpFareFyNW"
    },
    {
      "cell_type": "code",
      "source": [
        "def sequential_search_2d(matrix, x):\n",
        "    for i in range(len(matrix)):\n",
        "        for j in range(len(matrix[0])):\n",
        "            #your code starts here\n",
        "            if matrix[i][j] == x:\n",
        "                return (i, j)\n",
        "            #your code ends here\n",
        "    return (-1, -1)\n",
        "\n",
        "x = 15\n",
        "print(\"Vị trí của\", x, \"trong ma trận là:\", sequential_search_2d(arr2D, x))\n",
        "\n",
        "#output: Vị trí của 15 trong ma trận là: (1, 8)"
      ],
      "metadata": {
        "id": "_7IsyOg8FzxJ",
        "colab": {
          "base_uri": "https://localhost:8080/"
        },
        "outputId": "291c66cf-1c0d-4a7e-ce4f-660372c83a9e"
      },
      "id": "_7IsyOg8FzxJ",
      "execution_count": 7,
      "outputs": [
        {
          "output_type": "stream",
          "name": "stdout",
          "text": [
            "Vị trí của 15 trong ma trận là: (1, 8)\n"
          ]
        }
      ]
    },
    {
      "cell_type": "markdown",
      "id": "5f4d9bab",
      "metadata": {
        "id": "5f4d9bab"
      },
      "source": [
        "## Binary Search"
      ]
    },
    {
      "cell_type": "markdown",
      "source": [
        "Câu 4: Cho mảng 1 chiều `arr` có thứ tự tăng dần. Viết hàm chỉ ra 1 vị trí xuất hiện của giá trị `x` trong mảng 1 chiều `arr`"
      ],
      "metadata": {
        "id": "h4y9Onb6F9aW"
      },
      "id": "h4y9Onb6F9aW"
    },
    {
      "cell_type": "code",
      "execution_count": 9,
      "id": "36bcd35a",
      "metadata": {
        "id": "36bcd35a",
        "colab": {
          "base_uri": "https://localhost:8080/"
        },
        "outputId": "907ec7cc-3a64-45ee-d68f-9531df51a516"
      },
      "outputs": [
        {
          "output_type": "stream",
          "name": "stdout",
          "text": [
            "1 vị trí xuất hiện của 15 trong danh sách có thứ tự tăng dần là: 27\n"
          ]
        }
      ],
      "source": [
        "def binary_search(arr, x):\n",
        "    left, right = 0, len(arr) - 1\n",
        "    while left <= right:\n",
        "        mid = (left + right) // 2\n",
        "        #your code starts here\n",
        "        if arr[mid] == x:\n",
        "            return mid\n",
        "        elif arr[mid] > x:\n",
        "            right = mid - 1\n",
        "        else:\n",
        "            left = mid + 1\n",
        "        #your code ends here\n",
        "    return -1\n",
        "\n",
        "sortedArr = sorted(arr1D) # tạo mảng a là một phiên bản của arr1D nhưng có thứ tự tăng dần (arr1D vẫn giữ nguyên thứ tự)\n",
        "x = 15\n",
        "print(\"1 vị trí xuất hiện của\", x, \"trong danh sách có thứ tự tăng dần là:\", binary_search(sortedArr, x))\n",
        "\n",
        "#output: 1 vị trí xuất hiện của 15 trong danh sách có thứ tự tăng dần là: 27"
      ]
    },
    {
      "cell_type": "markdown",
      "source": [
        "Câu 5: Cho mảng 1 chiều `arr` có thứ tự tăng dần. Viết hàm tìm kiếm vị trí xuất hiện đầu tiên của `x` trong mảng 1 chiều `arr`. Nếu mảng không tồn tại giá trị `x` thì trả về `-1`."
      ],
      "metadata": {
        "id": "R0AYUaFuGzNS"
      },
      "id": "R0AYUaFuGzNS"
    },
    {
      "cell_type": "code",
      "source": [
        "def binary_search_first(arr, x):\n",
        "    result = -1\n",
        "    #your code starts here\n",
        "    left, right = 0, len(arr) - 1\n",
        "    while left <= right:\n",
        "        mid = (left + right) // 2\n",
        "        if arr[mid] == x:\n",
        "            result = mid\n",
        "            right = mid - 1\n",
        "        elif arr[mid] < x:\n",
        "            left = mid + 1\n",
        "        else:\n",
        "            right = mid - 1\n",
        "    #your code ends here\n",
        "    return result\n",
        "\n",
        "sortedArr = sorted(arr1D)\n",
        "x = 17\n",
        "print(\"Vị trí xuất hiện đầu tiên của\", x, \"trong danh sách có thứ tự tăng dần là:\", binary_search_first(sortedArr, x))\n",
        "\n",
        "#output: Vị trí xuất hiện đầu tiên của 17 trong danh sách có thứ tự tăng dần là: 30"
      ],
      "metadata": {
        "id": "txW0wn-LG0D_",
        "colab": {
          "base_uri": "https://localhost:8080/"
        },
        "outputId": "ac13074c-3111-4778-e417-6d089f727025"
      },
      "id": "txW0wn-LG0D_",
      "execution_count": 11,
      "outputs": [
        {
          "output_type": "stream",
          "name": "stdout",
          "text": [
            "Vị trí xuất hiện đầu tiên của 17 trong danh sách có thứ tự tăng dần là: 30\n"
          ]
        }
      ]
    },
    {
      "cell_type": "markdown",
      "source": [
        "Câu 6: Cho mảng 1 chiều arr có thứ tự tăng dần. Viết hàm tìm kiếm vị trí xuất hiện cuối cùng của x trong mảng 1 chiều arr bằng thuật toán tìm kiếm nhị phân. Nếu mảng không tồn tại giá trị x thì trả về -1."
      ],
      "metadata": {
        "id": "tcgN3SioG46v"
      },
      "id": "tcgN3SioG46v"
    },
    {
      "cell_type": "code",
      "source": [
        "def binary_search_last(arr, x):\n",
        "    result = -1\n",
        "    #your code starts here\n",
        "    left, right = 0, len(arr) - 1\n",
        "    while left <= right:\n",
        "        mid = (left + right) // 2\n",
        "        if arr[mid] == x:\n",
        "            result = mid\n",
        "            left = mid + 1\n",
        "        elif arr[mid] < x:\n",
        "            left = mid + 1\n",
        "        else:\n",
        "            right = mid - 1\n",
        "    #your code ends here\n",
        "    return result\n",
        "\n",
        "print(\"Vị trí xuất hiện cuối cùng của\", x, \"trong danh sách có thứ tự tăng dần là:\", binary_search_last(sortedArr, x))\n",
        "\n",
        "#output: Vị trí xuất hiện cuối cùng của 17 trong danh sách có thứ tự tăng dần là: 33"
      ],
      "metadata": {
        "id": "VMKzoUS_G5hR",
        "colab": {
          "base_uri": "https://localhost:8080/"
        },
        "outputId": "c55dde1d-a32f-450b-946e-1d7ced887cd6"
      },
      "id": "VMKzoUS_G5hR",
      "execution_count": 13,
      "outputs": [
        {
          "output_type": "stream",
          "name": "stdout",
          "text": [
            "Vị trí xuất hiện cuối cùng của 17 trong danh sách có thứ tự tăng dần là: 33\n"
          ]
        }
      ]
    },
    {
      "cell_type": "markdown",
      "id": "24db53bc",
      "metadata": {
        "id": "24db53bc"
      },
      "source": [
        "## Bubble Sort"
      ]
    },
    {
      "cell_type": "markdown",
      "source": [
        "Hàm sắp xếp mảng `arr` có thứ tự tăng dần bằng thuật toán sắp xếp nổi bọt"
      ],
      "metadata": {
        "id": "AQll4sc-HATv"
      },
      "id": "AQll4sc-HATv"
    },
    {
      "cell_type": "code",
      "execution_count": 14,
      "id": "b7fff6fe",
      "metadata": {
        "id": "b7fff6fe",
        "colab": {
          "base_uri": "https://localhost:8080/"
        },
        "outputId": "2d5ace25-ac1e-4f66-e042-d419a1b3eba0"
      },
      "outputs": [
        {
          "output_type": "stream",
          "name": "stdout",
          "text": [
            "Mảng sau khi sắp xếp: [1, 1, 1, 2, 2, 3, 3, 4, 5, 6, 6, 8, 8, 8, 8, 9, 11, 11, 12, 12, 12, 13, 13, 13, 13, 14, 14, 15, 15, 15, 17, 17, 17, 17, 18, 18, 18, 19, 20, 21, 21, 22, 22, 22, 23, 23, 23, 24, 24, 25, 26, 26, 27, 27, 27, 28, 28, 28, 29, 29, 29, 29, 30, 30, 30, 31, 31, 31, 31, 32, 32, 32, 33, 33, 33, 34, 36, 36, 36, 37, 37, 38, 38, 39, 40, 41, 42, 42, 44, 44, 44, 45, 46, 47, 48, 48, 48, 50, 50, 50]\n"
          ]
        }
      ],
      "source": [
        "# Code for Bubble Sort\n",
        "def bubble_sort(arr):\n",
        "    n = len(arr)\n",
        "    for i in range(n-1):\n",
        "        for j in range(n - 1, i, - 1):\n",
        "            if arr[j] < arr[j - 1]:\n",
        "                arr[j], arr[j - 1] = arr[j - 1], arr[j]\n",
        "    return arr\n",
        "\n",
        "bubble_sorted_arr = bubble_sort(arr1D.copy()) #tạo mảng copy của mảng arr1D để giữ nguyên thứ tự các phần tử trong arr1D\n",
        "print(\"Mảng sau khi sắp xếp:\", bubble_sorted_arr)\n",
        "\n",
        "#output: Mảng sau khi sắp xếp: [1, 1, 1, 2, 2, 3, 3, 4, 5, 6, 6, 8, 8, 8, 8, 9, 11, 11, 12, 12, 12, 13, 13, 13, 13, 14, 14, 15, 15, 15, 17, 17, 17, 17, 18, 18, 18, 19, 20, 21, 21, 22, 22, 22, 23, 23, 23, 24, 24, 25, 26, 26, 27, 27, 27, 28, 28, 28, 29, 29, 29, 29, 30, 30, 30, 31, 31, 31, 31, 32, 32, 32, 33, 33, 33, 34, 36, 36, 36, 37, 37, 38, 38, 39, 40, 41, 42, 42, 44, 44, 44, 45, 46, 47, 48, 48, 48, 50, 50, 50]"
      ]
    },
    {
      "cell_type": "markdown",
      "id": "e5a0887c",
      "metadata": {
        "id": "e5a0887c"
      },
      "source": [
        "## Insertion Sort"
      ]
    },
    {
      "cell_type": "markdown",
      "source": [
        "Hàm sắp xếp mảng `arr` có thứ tự tăng dần bằng thuật toán chèn trực tiếp"
      ],
      "metadata": {
        "id": "83TsWsrRtIEu"
      },
      "id": "83TsWsrRtIEu"
    },
    {
      "cell_type": "code",
      "source": [
        "def insertion_sort(arr):\n",
        "    n = len(arr)\n",
        "    for i in range(1, n):\n",
        "        key = arr[i]\n",
        "        j = i - 1\n",
        "        while j >= 0 and arr[j] > key:\n",
        "            arr[j + 1] = arr[j]\n",
        "            j -= 1\n",
        "        arr[j + 1] = key\n",
        "    return arr\n",
        "\n",
        "insertion_sorted_arr = insertion_sort(arr1D.copy()) #tạo mảng copy của mảng arr1D để giữ nguyên thứ tự các phần tử trong arr1D\n",
        "print(\"Mảng sau khi sắp xếp:\", insertion_sorted_arr)\n",
        "\n",
        "#output: Mảng sau khi sắp xếp: [1, 1, 1, 2, 2, 3, 3, 4, 5, 6, 6, 8, 8, 8, 8, 9, 11, 11, 12, 12, 12, 13, 13, 13, 13, 14, 14, 15, 15, 15, 17, 17, 17, 17, 18, 18, 18, 19, 20, 21, 21, 22, 22, 22, 23, 23, 23, 24, 24, 25, 26, 26, 27, 27, 27, 28, 28, 28, 29, 29, 29, 29, 30, 30, 30, 31, 31, 31, 31, 32, 32, 32, 33, 33, 33, 34, 36, 36, 36, 37, 37, 38, 38, 39, 40, 41, 42, 42, 44, 44, 44, 45, 46, 47, 48, 48, 48, 50, 50, 50]"
      ],
      "metadata": {
        "id": "FX7gJPgXIuC4",
        "colab": {
          "base_uri": "https://localhost:8080/"
        },
        "outputId": "700ab81c-f24b-40d4-c761-2f0bbf0814a2"
      },
      "id": "FX7gJPgXIuC4",
      "execution_count": 15,
      "outputs": [
        {
          "output_type": "stream",
          "name": "stdout",
          "text": [
            "Mảng sau khi sắp xếp: [1, 1, 1, 2, 2, 3, 3, 4, 5, 6, 6, 8, 8, 8, 8, 9, 11, 11, 12, 12, 12, 13, 13, 13, 13, 14, 14, 15, 15, 15, 17, 17, 17, 17, 18, 18, 18, 19, 20, 21, 21, 22, 22, 22, 23, 23, 23, 24, 24, 25, 26, 26, 27, 27, 27, 28, 28, 28, 29, 29, 29, 29, 30, 30, 30, 31, 31, 31, 31, 32, 32, 32, 33, 33, 33, 34, 36, 36, 36, 37, 37, 38, 38, 39, 40, 41, 42, 42, 44, 44, 44, 45, 46, 47, 48, 48, 48, 50, 50, 50]\n"
          ]
        }
      ]
    },
    {
      "cell_type": "markdown",
      "source": [
        "Câu 7: Viết hàm sắp xếp các phần trên dòng `row` của mảng 2 chiều `matrix` có thứ tự tăng dần bằng thuật toán Bubble sort."
      ],
      "metadata": {
        "id": "zWMKLglOHEnE"
      },
      "id": "zWMKLglOHEnE"
    },
    {
      "cell_type": "code",
      "source": [
        "def bubble_sort_2d_row(matrix, row):\n",
        "    #your code starts here\n",
        "    n = len(matrix[row])\n",
        "    for i in range(n - 1):\n",
        "        for j in range(n - i - 1):\n",
        "            if matrix[row][j] > matrix[row][j + 1]:\n",
        "                matrix[row][j], matrix[row][j + 1] = matrix[row][j + 1], matrix[row][j]\n",
        "    #your code ends here\n",
        "    #your code ends here\n",
        "    return matrix\n",
        "\n",
        "r = 3\n",
        "matrix = bubble_sort_2d_row(arr2D, r)\n",
        "print(\"Mảng 2 chiều sau khi sắp xếp các phần tử ở dòng\", r, \"có thứ tự tăng dần:\")\n",
        "for row in matrix:\n",
        "    print(row)\n",
        "\n",
        "#output:\n",
        "#Mảng 2 chiều sau khi sắp xếp các phần tử ở dòng 3 có thứ tự tăng dần:\n",
        "#[14, 7, 49, 47, 43, 5, 22, 11, 32, 22, 5, 4, 24, 44, 40]\n",
        "#[40, 22, 30, 5, 43, 44, 44, 23, 15, 47, 17, 42, 42, 40, 26]\n",
        "#[13, 46, 44, 1, 33, 22, 8, 44, 4, 46, 46, 12, 11, 29, 27]\n",
        "#[7, 19, 22, 22, 24, 36, 39, 43, 44, 44, 46, 46, 47, 47, 48]\n",
        "#[30, 13, 16, 42, 30, 17, 31, 8, 27, 36, 26, 17, 41, 15, 8]\n",
        "#[8, 42, 22, 36, 23, 39, 33, 19, 35, 7, 26, 4, 18, 21, 9]\n",
        "#[10, 28, 18, 48, 39, 34, 10, 1, 27, 11, 15, 44, 35, 28, 25]\n",
        "#[18, 39, 16, 24, 1, 1, 23, 23, 9, 3, 31, 28, 39, 43, 47]\n",
        "#[43, 31, 46, 27, 23, 43, 32, 2, 36, 36, 48, 16, 41, 31, 20]\n",
        "#[23, 40, 36, 13, 30, 40, 9, 30, 42, 36, 32, 35, 26, 35, 28]"
      ],
      "metadata": {
        "id": "1zClRaSKH7PO",
        "colab": {
          "base_uri": "https://localhost:8080/"
        },
        "outputId": "1d2981f7-e00d-4910-dd04-afc41de6870c"
      },
      "id": "1zClRaSKH7PO",
      "execution_count": 17,
      "outputs": [
        {
          "output_type": "stream",
          "name": "stdout",
          "text": [
            "Mảng 2 chiều sau khi sắp xếp các phần tử ở dòng 3 có thứ tự tăng dần:\n",
            "[14, 7, 49, 47, 43, 5, 22, 11, 32, 22, 5, 4, 24, 44, 40]\n",
            "[40, 22, 30, 5, 43, 44, 44, 23, 15, 47, 17, 42, 42, 40, 26]\n",
            "[13, 46, 44, 1, 33, 22, 8, 44, 4, 46, 46, 12, 11, 29, 27]\n",
            "[7, 19, 22, 22, 24, 36, 39, 43, 44, 44, 46, 46, 47, 47, 48]\n",
            "[30, 13, 16, 42, 30, 17, 31, 8, 27, 36, 26, 17, 41, 15, 8]\n",
            "[8, 42, 22, 36, 23, 39, 33, 19, 35, 7, 26, 4, 18, 21, 9]\n",
            "[10, 28, 18, 48, 39, 34, 10, 1, 27, 11, 15, 44, 35, 28, 25]\n",
            "[18, 39, 16, 24, 1, 1, 23, 23, 9, 3, 31, 28, 39, 43, 47]\n",
            "[43, 31, 46, 27, 23, 43, 32, 2, 36, 36, 48, 16, 41, 31, 20]\n",
            "[23, 40, 36, 13, 30, 40, 9, 30, 42, 36, 32, 35, 26, 35, 28]\n"
          ]
        }
      ]
    },
    {
      "cell_type": "markdown",
      "source": [
        "Câu 8: Viết hàm sắp xếp các phần trên cột `col` của mảng 2 chiều `matrix` có thứ tự tăng dần bằng thuật toán Insertion sort."
      ],
      "metadata": {
        "id": "d-o-7-vGH-mJ"
      },
      "id": "d-o-7-vGH-mJ"
    },
    {
      "cell_type": "code",
      "source": [
        "def insertion_sort_2d_col(matrix, col):\n",
        "    #your code starts here\n",
        "    rows = len(matrix)\n",
        "    for i in range(1, rows):\n",
        "        key = matrix[i][col]\n",
        "        j = i - 1\n",
        "        while j >= 0 and matrix[j][col] > key:\n",
        "            matrix[j + 1][col] = matrix[j][col]\n",
        "            j -= 1\n",
        "        matrix[j + 1][col] = key\n",
        "    #your code ends here\n",
        "    return matrix\n",
        "\n",
        "c = 3\n",
        "matrix = insertion_sort_2d_col(arr2D, c)\n",
        "print(\"Mảng 2 chiều sau khi sắp xếp các phần tử ở cột\", c, \"có thứ tự tăng dần:\")\n",
        "for row in matrix:\n",
        "    print(row)"
      ],
      "metadata": {
        "id": "r0u1VmFuH_Oi",
        "colab": {
          "base_uri": "https://localhost:8080/"
        },
        "outputId": "87698bb4-ec54-49c2-fe36-30a552e297a6"
      },
      "id": "r0u1VmFuH_Oi",
      "execution_count": 18,
      "outputs": [
        {
          "output_type": "stream",
          "name": "stdout",
          "text": [
            "Mảng 2 chiều sau khi sắp xếp các phần tử ở cột 3 có thứ tự tăng dần:\n",
            "[14, 7, 49, 1, 43, 5, 22, 11, 32, 22, 5, 4, 24, 44, 40]\n",
            "[40, 22, 30, 5, 43, 44, 44, 23, 15, 47, 17, 42, 42, 40, 26]\n",
            "[13, 46, 44, 13, 33, 22, 8, 44, 4, 46, 46, 12, 11, 29, 27]\n",
            "[7, 19, 22, 22, 24, 36, 39, 43, 44, 44, 46, 46, 47, 47, 48]\n",
            "[30, 13, 16, 24, 30, 17, 31, 8, 27, 36, 26, 17, 41, 15, 8]\n",
            "[8, 42, 22, 27, 23, 39, 33, 19, 35, 7, 26, 4, 18, 21, 9]\n",
            "[10, 28, 18, 36, 39, 34, 10, 1, 27, 11, 15, 44, 35, 28, 25]\n",
            "[18, 39, 16, 42, 1, 1, 23, 23, 9, 3, 31, 28, 39, 43, 47]\n",
            "[43, 31, 46, 47, 23, 43, 32, 2, 36, 36, 48, 16, 41, 31, 20]\n",
            "[23, 40, 36, 48, 30, 40, 9, 30, 42, 36, 32, 35, 26, 35, 28]\n"
          ]
        }
      ]
    },
    {
      "cell_type": "markdown",
      "source": [
        "Câu 9: Viết hàm sắp xếp mảng 1 chiều `arr` có thứ tự giảm dần bằng thuật toán Bubble sort"
      ],
      "metadata": {
        "id": "bpyAw8l6Ithx"
      },
      "id": "bpyAw8l6Ithx"
    },
    {
      "cell_type": "code",
      "source": [
        "def bubble_sort_desc(arr):\n",
        "    n = len(arr)\n",
        "    for i in range(n-1):\n",
        "        for j in range(n - 1, i, -1):\n",
        "            #your code starts here\n",
        "            if arr[j] > arr[j - 1]:\n",
        "            #your code ends here\n",
        "                arr[j], arr[j - 1] = arr[j - 1], arr[j]\n",
        "    return arr\n",
        "\n",
        "bubble_sorted_arr = bubble_sort_desc(arr1D.copy()) #tạo mảng copy của mảng arr1D để giữ nguyên thứ tự các phần tử trong arr1D\n",
        "print(\"Mảng sau khi sắp xếp giảm dần:\", bubble_sorted_arr)\n",
        "\n",
        "#output: Mảng sau khi sắp xếp giảm dần: [50, 50, 50, 48, 48, 48, 47, 46, 45, 44, 44, 44, 42, 42, 41, 40, 39, 38, 38, 37, 37, 36, 36, 36, 34, 33, 33, 33, 32, 32, 32, 31, 31, 31, 31, 30, 30, 30, 29, 29, 29, 29, 28, 28, 28, 27, 27, 27, 26, 26, 25, 24, 24, 23, 23, 23, 22, 22, 22, 21, 21, 20, 19, 18, 18, 18, 17, 17, 17, 17, 15, 15, 15, 14, 14, 13, 13, 13, 13, 12, 12, 12, 11, 11, 9, 8, 8, 8, 8, 6, 6, 5, 4, 3, 3, 2, 2, 1, 1, 1]"
      ],
      "metadata": {
        "id": "pCOObeZ_8wtM"
      },
      "id": "pCOObeZ_8wtM",
      "execution_count": null,
      "outputs": []
    },
    {
      "cell_type": "markdown",
      "source": [
        "Câu 10: Viết hàm sắp xếp mảng 1 chiều `arr` có thứ tự giảm dần bằng thuật toán Insertion sort"
      ],
      "metadata": {
        "id": "tVjrzexUIyH7"
      },
      "id": "tVjrzexUIyH7"
    },
    {
      "cell_type": "code",
      "source": [
        "def insertion_sort_desc(arr):\n",
        "    #your code starts here\n",
        "    for i in range(1, len(arr)):\n",
        "        key = arr[i]\n",
        "        j = i - 1\n",
        "        while j >= 0 and arr[j] < key:\n",
        "            arr[j + 1] = arr[j]\n",
        "            j -= 1\n",
        "        arr[j + 1] = key\n",
        "    #your code ends here\n",
        "    return arr\n",
        "\n",
        "insertion_sorted_arr = insertion_sort_desc(arr1D.copy()) #tạo mảng copy của mảng arr1D để giữ nguyên thứ tự các phần tử trong arr1D\n",
        "print(\"Mảng sau khi sắp xếp giảm dần:\", insertion_sorted_arr)\n",
        "\n",
        "#output: Mảng sau khi sắp xếp giảm dần: [50, 50, 50, 48, 48, 48, 47, 46, 45, 44, 44, 44, 42, 42, 41, 40, 39, 38, 38, 37, 37, 36, 36, 36, 34, 33, 33, 33, 32, 32, 32, 31, 31, 31, 31, 30, 30, 30, 29, 29, 29, 29, 28, 28, 28, 27, 27, 27, 26, 26, 25, 24, 24, 23, 23, 23, 22, 22, 22, 21, 21, 20, 19, 18, 18, 18, 17, 17, 17, 17, 15, 15, 15, 14, 14, 13, 13, 13, 13, 12, 12, 12, 11, 11, 9, 8, 8, 8, 8, 6, 6, 5, 4, 3, 3, 2, 2, 1, 1, 1]"
      ],
      "metadata": {
        "id": "y5CxKZfx8x0S",
        "colab": {
          "base_uri": "https://localhost:8080/"
        },
        "outputId": "037bc55d-99ef-42e8-abff-41328de494c2"
      },
      "id": "y5CxKZfx8x0S",
      "execution_count": 21,
      "outputs": [
        {
          "output_type": "stream",
          "name": "stdout",
          "text": [
            "Mảng sau khi sắp xếp giảm dần: [50, 50, 50, 48, 48, 48, 47, 46, 45, 44, 44, 44, 42, 42, 41, 40, 39, 38, 38, 37, 37, 36, 36, 36, 34, 33, 33, 33, 32, 32, 32, 31, 31, 31, 31, 30, 30, 30, 29, 29, 29, 29, 28, 28, 28, 27, 27, 27, 26, 26, 25, 24, 24, 23, 23, 23, 22, 22, 22, 21, 21, 20, 19, 18, 18, 18, 17, 17, 17, 17, 15, 15, 15, 14, 14, 13, 13, 13, 13, 12, 12, 12, 11, 11, 9, 8, 8, 8, 8, 6, 6, 5, 4, 3, 3, 2, 2, 1, 1, 1]\n"
          ]
        }
      ]
    }
  ],
  "metadata": {
    "colab": {
      "provenance": []
    },
    "language_info": {
      "name": "python"
    },
    "kernelspec": {
      "name": "python3",
      "display_name": "Python 3"
    }
  },
  "nbformat": 4,
  "nbformat_minor": 5
}